{
 "cells": [
  {
   "cell_type": "markdown",
   "metadata": {},
   "source": [
    "*The workings of the underlying prediction pipeline*\n",
    "\n",
    "## Background on the DengAI Challenge\n",
    "\n",
    "This post represents the second part out of a series of two blogpost discussing our second attempt of the DengAI forecasting challenge hosted by DrivenData.org. Within this challenge we are tasked to predict the number of dengue fever cases in two different cities, San Juan as well as Iquitos. What makes this challenge so difficult is that we are asked to forecast multiple years into the feature, even though we do not have very many observations for each city to begin with.\n",
    "\n",
    "Whenever facing a data science challenge, we often run into the issue of **data leakage**. Data leakage describes the problem of having information which belongs to the trainings set within the test data. For example, when fitting a scaler (e.g. a MinMaxScaler from scikit-learn) and we apply this scaler before train-test-splitting our data, we accidentally scaled the trainings data using information from the test data. Examples like this usually result in a superior prediction performance than would have been the case if we would have separated train and test data properly.\n",
    "\n",
    "Even when properly splitting train and test data in the beginning of our code, applying every single step we used for the trainings data and apply it on the test data is cumbersome and prone to errors. What we would rather like to do is to combine all feature engineering steps we apply to the trainings data and fit this combinations of steps on the trainings data, before applying all steps on the test data. The solution to this problem is called a **pipeline**.\n",
    "\n",
    "## Benefits of using a pipeline\n",
    "\n",
    "In order to make the benefits of using a pipeline even clearer, let us consider the following simple example, in which we would like to scale the data, impute it and afterwards fit a LinearRegression."
   ]
  },
  {
   "cell_type": "code",
   "execution_count": 11,
   "metadata": {},
   "outputs": [],
   "source": [
    "import numpy as np\n",
    "\n",
    "X_train = [[1, 2, 3], [2, np.nan, 3], [5, 6, 7]]\n",
    "X_test = [[2, 5, np.nan]]\n",
    "y_train = [2, 5, 4]"
   ]
  },
  {
   "cell_type": "markdown",
   "metadata": {},
   "source": [
    "In the case without using a pipeline we have to apply the scaler and imputation method first on the trainings data, save the instance and afterwards apply to the test data in order to get a prediction:"
   ]
  },
  {
   "cell_type": "code",
   "execution_count": 12,
   "metadata": {},
   "outputs": [
    {
     "name": "stdout",
     "output_type": "stream",
     "text": [
      "[4.97222222]\n"
     ]
    }
   ],
   "source": [
    "from sklearn.preprocessing import MinMaxScaler\n",
    "from sklearn.impute import KNNImputer\n",
    "from sklearn.linear_model import LinearRegression\n",
    "\n",
    "# Fitting everything on the trainings data\n",
    "scaler = MinMaxScaler().fit(X_train)\n",
    "scaled_data = scaler.transform(X_train)\n",
    "\n",
    "imputer = KNNImputer().fit(scaled_data)\n",
    "imputed_data = imputer.transform(scaled_data)\n",
    "\n",
    "model = LinearRegression().fit(imputed_data, y_train)\n",
    "\n",
    "# Applying all steps on the test data\n",
    "scaled_data_test = scaler.transform(X_test)\n",
    "imputed_data_test = imputer.transform(scaled_data_test)\n",
    "y_pred_test = model.predict(imputed_data_test)\n",
    "print(y_pred_test)"
   ]
  },
  {
   "cell_type": "markdown",
   "metadata": {},
   "source": [
    "As we can see from the example above that even a simple prediction method becomes quite complex when not using pipelines. Not only do we always have to remember what the output from the prior step was saved as in order to input it into the next step, but also we have to remember what all the instances from our preprocessing steps are called. When doing exactly the same but with using pipelines, the benefits become clear immediately."
   ]
  },
  {
   "cell_type": "code",
   "execution_count": 13,
   "metadata": {},
   "outputs": [
    {
     "name": "stdout",
     "output_type": "stream",
     "text": [
      "[4.97222222]\n"
     ]
    }
   ],
   "source": [
    "from sklearn.pipeline import make_pipeline\n",
    "\n",
    "pipeline = make_pipeline(\n",
    "    MinMaxScaler(),\n",
    "    KNNImputer(),\n",
    "    LinearRegression()\n",
    ")\n",
    "\n",
    "pipeline.fit(X_train, y_train)\n",
    "y_pred = pipeline.predict(X_test)\n",
    "print(y_pred)"
   ]
  },
  {
   "cell_type": "markdown",
   "metadata": {},
   "source": [
    "Not only did we need significantly less code, there is no unnecessary data assigning and constant fitting and transforming of instances. Furthermore, the defined pipeline is easy to apply to other data. One other benefit is that it is possible to write custom classes which are then possible to be inserted into the pipeline.\n",
    "\n",
    "Because of all of these benefits we decided to go with this technique for our challenge. The purpose of this post is to outline how our pipeline we used for this data challenge works under the hood.\n",
    "\n",
    "## Structure of this post\n",
    "\n",
    "In order to give the reader a solid understanding how our prediction pipeline-powered prediction model works, we show all classes within the pipeline and explain our steps. On a high-level the pipeline has nine different steps.\n",
    "\n",
    "The pipeline starts with the **Encoding** of all variables which are not in a numeric format. That applies especially to date variables, as well as variables which are in an ordinal form (date of the month).\n",
    "\n",
    "Since dummy variables are created, we have to make sure that we do not accidentally end up with having categories within the test data, which do not show up in the trainings data. Since that would break the code we have the following class called **ColumnCorrection** which deals with exactly that.\n",
    "\n",
    "Afterwards we make sure that the features we are using fulfill the stationarity criteria, since any form of prediction model would have a hard-time when facing a unit-root in the data. Therefore we defined the **Stationarity** class, which tests for stationarity and applies potentially necessary corrections.\n",
    "\n",
    "The next step is then to transform the data as well as to impute missing values, which is outlined in the two classes **Transformer** as well **Imputer**. Following that we create additional features and select those which are relevant within the two classes **FeatureCreation** as well as **FeatureSelection**.\n",
    "\n",
    "Given the nature of our prediction methodology for this data challenge, we also included a oversampling method called SMOTE. The need of this class is elaborated on in the section **SMOTE**. Lastly we show a possible way of using docking different prediction models to our prediction model using the self-written class called **ModelSwitcher**.\n",
    " "
   ]
  },
  {
   "cell_type": "markdown",
   "metadata": {},
   "source": [
    "## Importing relevant packages"
   ]
  },
  {
   "cell_type": "markdown",
   "metadata": {},
   "source": [
    "We begin by showing the relevant packages for our work. As we can see most of them are from scikit-learn, which comes not too big of a surprise, given that we are using pipelines from the same package. Sklearn pipeline are very articulate in that they require every class that is used within it has a fit and transform/ predict method."
   ]
  },
  {
   "cell_type": "code",
   "execution_count": 14,
   "metadata": {},
   "outputs": [
    {
     "name": "stderr",
     "output_type": "stream",
     "text": [
      "/Users/PM/.local/share/virtualenvs/dengai_ensemble-MOIVDowa/lib/python3.7/site-packages/statsmodels/tools/_testing.py:19: FutureWarning: pandas.util.testing is deprecated. Use the functions in the public API at pandas.testing instead.\n",
      "  import pandas.util.testing as tm\n"
     ]
    }
   ],
   "source": [
    "import warnings\n",
    "import numpy as np\n",
    "import pandas as pd\n",
    "from tbats import TBATS\n",
    "from scipy import signal as sig\n",
    "from statsmodels.tsa.stattools import adfuller\n",
    "from sklearn.base import BaseEstimator, TransformerMixin, RegressorMixin\n",
    "from sklearn.preprocessing import MinMaxScaler\n",
    "from sklearn.impute import KNNImputer\n",
    "from sklearn.preprocessing import PolynomialFeatures\n",
    "from sklearn import svm\n",
    "from sklearn.linear_model import LogisticRegression, LinearRegression\n",
    "from sklearn.ensemble import RandomForestClassifier, RandomForestRegressor\n",
    "from sklearn.cluster import AffinityPropagation\n",
    "from sklearn.model_selection import cross_val_score\n",
    "from sklearn.exceptions import ConvergenceWarning\n",
    "from warnings import simplefilter\n",
    "\n",
    "simplefilter(\"ignore\", category=ConvergenceWarning)\n",
    "warnings.filterwarnings(\"ignore\")\n",
    "pd.options.mode.chained_assignment = None"
   ]
  },
  {
   "cell_type": "markdown",
   "metadata": {},
   "source": [
    "## Data Overview\n",
    "\n",
    "Before we start with the individual preprocessing classes we take a quick look into what kind of datatypes the data contains. That initial analysis is important in order to know what kind of processing is necessary. From the data below, we see that most of the variables are already in a float format. There are only four variables which come either in an integer or object format.\n",
    "\n",
    "- city\n",
    "- year\n",
    "- weekofyear\n",
    "- week_start_date\n",
    "\n",
    "The variables *year* and *weekofyear* are already in numeric format and therefore do not necessarily have to be transformed. The other two variables *city* and *week_start_date* are currently in an string format and therefore have to be adjusted in order for a machine to be able to read them in. The following paragraph **Encoding** will elaborate on how to proceed with these variables. "
   ]
  },
  {
   "cell_type": "code",
   "execution_count": 17,
   "metadata": {},
   "outputs": [
    {
     "data": {
      "text/plain": [
       "city                                      object\n",
       "year                                       int64\n",
       "weekofyear                                 int64\n",
       "week_start_date                           object\n",
       "ndvi_ne                                  float64\n",
       "ndvi_nw                                  float64\n",
       "ndvi_se                                  float64\n",
       "ndvi_sw                                  float64\n",
       "precipitation_amt_mm                     float64\n",
       "reanalysis_air_temp_k                    float64\n",
       "reanalysis_avg_temp_k                    float64\n",
       "reanalysis_dew_point_temp_k              float64\n",
       "reanalysis_max_air_temp_k                float64\n",
       "reanalysis_min_air_temp_k                float64\n",
       "reanalysis_precip_amt_kg_per_m2          float64\n",
       "reanalysis_relative_humidity_percent     float64\n",
       "reanalysis_sat_precip_amt_mm             float64\n",
       "reanalysis_specific_humidity_g_per_kg    float64\n",
       "reanalysis_tdtr_k                        float64\n",
       "station_avg_temp_c                       float64\n",
       "station_diur_temp_rng_c                  float64\n",
       "station_max_temp_c                       float64\n",
       "station_min_temp_c                       float64\n",
       "station_precip_mm                        float64\n",
       "dtype: object"
      ]
     },
     "execution_count": 17,
     "metadata": {},
     "output_type": "execute_result"
    }
   ],
   "source": [
    "import os\n",
    "import pandas as pd\n",
    "\n",
    "os.chdir(r\"/Users/PM/Documents/projects/dengai_ensemble/\")\n",
    "feature_data = pd.read_csv(\"data/dengue_features_train.csv\")\n",
    "\n",
    "feature_data.dtypes"
   ]
  },
  {
   "cell_type": "markdown",
   "metadata": {},
   "source": [
    "## Encoding\n",
    "\n",
    "Encoding describes the process of turning a categorical columns into a machine-readable numeric format. A categorical column usually refers to a column of the type \"object\", meaning that the content of the variable is in a string format. Though we would also apply encoding whenever we face a variable of discrete nature. The purpose of the Encoding class is to take variables which are currently in an unusable or unfortunate format and turn them into a numeric format a machine would have an easier time to understand.\n",
    "\n",
    "From the section above we know that there are four variables we should take a closer look at, namely *city*, *year*, *weakofyear* and *year*. In the following we discuss what is done to all of these variables in order to turn them into a better usable format.\n",
    "\n",
    "Given that the data generating process of the number of dengue fever cases is different for these two cities, we decided to build one prediction model per city. Through that decision the variable *city* falls away automatically.  \n",
    "\n",
    "The variables *year* and *weekofyear* are currently both of type \"integer\". There are multiple reasons on why the *year* variable should not be included within any forecasting model. The arguably strongest argument is that the year variable is by definition non-stationary, as it is has a deterministic trend. If we then even would try toe remove that trend, we would end up with a constant variable with no variation. It should therefore be clear that we drop this feature.\n",
    "\n",
    "Dealing with the *weekofyear* feature is not as straightforward. To understand why that is the case we first have to explain what the problem is, given that the variable is already in a numeric format and therefore possible to simply leave the feature as it is right now.\n",
    "\n",
    "The problem is that in its current representation only linear effects are possible to be captured. The algorithm has basically no chance to understand that week 52 and week 1 are actually separated by only 1 week. The algorithm thinks instead that these two weeks are 51 weeks apart.\n",
    "\n",
    "That is the point where encoding comes in. Encoding helps us to change the feature representation and make the information content of the feature clearer. The two most famous encoding algortihms are arguably the creation of [dummy-variables](https://en.wikipedia.org/wiki/Dummy_variable_(statistics)) and [mean-encoding](https://www.geeksforgeeks.org/mean-encoding-machine-learning/). Deciding between these two is rather an art than science. In this instance we decide against the dummy-variable creation given the amount of categories within the *weekofyear* variable, since it would create over 50 features. We therefore decide to mean-encode this feature. Note that when doing this we have to prepare the mean-encoding dictionary within the fit statement, in order to apply it in the transform statement. Furthermore, we will have to make sure that we have an answer in the case that a week turns up in the test data that we have not seen in the trainings data. This worry is the explanation of the additional code in the transform statement.\n",
    "\n",
    "Lastly there is the variable *week_start_date*. This variable is particularly interesting as there are so many different ways how we can transform this variable, as it contains day of the month, weekday and month information. We deemed the information about which month the observation is in as the most useful and therefore extracted that piece of information. Afterwards we decided to apply dummy-variable encoding. Doing that, we have to be aware that when using a prediction model which includes an intercept (e.g. LogisticRegression or LinearRegression) that we have to drop one of the categories, in order to not fall into the so-called [dummy-variable trap](https://www.algosome.com/articles/dummy-variable-trap-regression.html). That is because if we would not drop any category and add all dummy-variable columns together we would end up with a column full of ones. A column full of ones is though already what an intercept actually represents. Having two columns full of ones would lead us to being unable to solve for the coefficient values of our features. Luckily, Pandas provides us with an option to drop one of the categories when creating the dummy-encoding, as can be seen below."
   ]
  },
  {
   "cell_type": "code",
   "execution_count": 18,
   "metadata": {},
   "outputs": [],
   "source": [
    "class Encoding(BaseEstimator, TransformerMixin):\n",
    "    \"\"\"This class is creating dummy variables out of the month variable. Further, it is dropping the time variable\n",
    "    week start date and the year. The year is dropped given that this variable is not useful and will\n",
    "    not be stationary. Furthermore, we mean encode the weekofyear variable.\"\"\"\n",
    "\n",
    "    def __init__(self):\n",
    "        pass\n",
    "\n",
    "    def fit(self, X, y):\n",
    "        # Get mean number of cases for weekofyear\n",
    "        weekofyear_df = X.loc[:, [\"weekofyear\"]].copy()\n",
    "        weekofyear_df.loc[:, \"target\"] = y.values\n",
    "        self.weekofyear_dict = weekofyear_df.groupby(\"weekofyear\")[\"target\"].mean().to_dict()\n",
    "\n",
    "        # Making sure that we have all weeks of the year within the data\n",
    "        week_within_a_year = 53\n",
    "        keys_present = self.weekofyear_dict.keys()\n",
    "        overall_average = np.mean(list(self.weekofyear_dict.values()))\n",
    "        for i in np.arange(1, week_within_a_year+1):\n",
    "            if i not in keys_present:\n",
    "                self.weekofyear_dict[i]: overall_average\n",
    "\n",
    "        return self\n",
    "\n",
    "    def transform(self, X):\n",
    "\n",
    "        # Creating monthly dummy variables from week start date\n",
    "        week_start_date = pd.to_datetime(X.loc[:, \"week_start_date\"])\n",
    "        X.loc[:, \"month\"] = week_start_date.dt.month.astype(object)\n",
    "        subset_X = X.drop(columns=[\"week_start_date\", \"year\"])\n",
    "        dummy_X = pd.get_dummies(subset_X, drop_first=True)\n",
    "\n",
    "        # Applying the mean encoding for the weekofyear variable\n",
    "        dummy_X.loc[:, \"weekofyear\"] = X.loc[:, \"weekofyear\"].map(self.weekofyear_dict)\n",
    "\n",
    "        return dummy_X"
   ]
  },
  {
   "cell_type": "markdown",
   "metadata": {},
   "source": [
    "## ColumnCorrection\n",
    "\n",
    "This class may arguably not be needed in this very example, though it would be important to include if applying this pipeline to other problems in the future. The intend of this class is to make sure that we do not run into the case where we find an encoded category which was...\n",
    "\n",
    "1. present in the training data, but does not show up in the test data\n",
    "2. present in the test data, but does not show up in the trainings data\n",
    "\n",
    "In the following we discuss why that is a problem and how we tackle the problem.\n",
    "\n",
    "Imagine for example that in our training data we do not have any observation recorded in the month of *December*. Given the workings of the prior **Encoding** class, we would therefore not create a dummy-variable for December. If this category though then appears in the test data our algorithm will result in an error since it contains a feature for which the training model has not been adjusted for. In order to prevent that we would have to find all the columns names which were created in the training data and subset the test data so it only continues with these exact columns.\n",
    "\n",
    "In the other scenario we would find the month of December only in the training data but not in the test data. The problem with that is that the final prediction model will then find not enough features to work with. In order to prevent that we have to create all the missing columns and fill them with zeros.\n",
    "\n",
    "The reason why this problem is rather unlikely to happen in our example is that we only have eleven dummy columns to worry about, and it is rather unlikely that the trainings or testing data would contain fewer than one observation from each month."
   ]
  },
  {
   "cell_type": "code",
   "execution_count": 19,
   "metadata": {},
   "outputs": [],
   "source": [
    "class ColumnCorrection(BaseEstimator, TransformerMixin):\n",
    "    \"\"\"This class is necessary to ensure that all columns we created in train are also showing up in the test data.\"\"\"\n",
    "\n",
    "    def __init__(self):\n",
    "        pass\n",
    "\n",
    "    def fit(self, X, y=None):\n",
    "        self.train_columns = X.columns\n",
    "        return self\n",
    "\n",
    "    def transform(self, X):\n",
    "        in_train_but_not_in_test = list(set(self.train_columns) - set(X.columns))\n",
    "        if len(in_train_but_not_in_test) != 0:\n",
    "            for col in in_train_but_not_in_test:\n",
    "                X.loc[:, col] = 0\n",
    "        X = X.loc[:, self.train_columns]\n",
    "        return X"
   ]
  },
  {
   "cell_type": "markdown",
   "metadata": {},
   "source": [
    "## Stationarity\n",
    "\n",
    "The next concept is particularly important for time-series. In fact, without ensuring stationarity, the prediction performance of the model could be seriously worsened. A time-series would be described as stationary, if its statistical properties do not change over time. The absence of stationarity would therefore make it difficult or even impossible for any kind of prediction model to exploit a statistical pattern within a time-series which constantly changes. Future posts will elaborate more on the mathematics behind the concept of stationarity.\n",
    "\n",
    "There are many potential reasons why a time-series could be non-stationary. The most typical are:\n",
    "\n",
    "1. Seasonality\n",
    "2. Deterministic Trend\n",
    "3. Unit root\n",
    "4. Structural Breaks\n",
    "\n",
    "A seasonal time-series is technically a form of non-stationarity, but not much is lost when treating such a time-series as if it were stationary [1].\n",
    "\n",
    "Deterministic trends have an unconditional which depend on time, their treatment is normally to model the trend (e.g. with a LinearRegression) and remove it from the time-series.\n",
    "\n",
    "The arguably most dangerous version of non-stationarity is a so called [unit-root] (https://en.wikipedia.org/wiki/Unit_root), which has an unconditional variance that grows over time. This explosive nature of the unit-root makes the time series unpredictable. The treatment for this problem is to difference the time-series. Differencing is the way to go to make a time-series which suffers from a unit-root stationary.\n",
    "\n",
    "Lastly, structural breaks describe an abrupt change in the statistical properties which were constant before and after. This behavior can lead to either an unconditional dependence on time of the mean or the variance, depending on the data. When facing structural breaks, one normally differences the time-series in order to proceed.\n",
    "\n",
    "### Testing for stationarity\n",
    "\n",
    "There are multiple ways to test for stationarity. The two most famous tests are the **Augmented Dickey Fuller** (ADF) test and the **KPSS** test. It is important to mention that even though these two tests are applied to check for stationarity of the time series, they technically look for slightly different things. Whereas the ADf test checks whether a unit root is present in the time-series, the KPSS is checking for stationary around a deterministic trend. This slight difference will also be elaborated more on in a future post.\n",
    "\n",
    "For reasons of automation we will only use the ADF test in order to check for stationarity. Usually though one would apply both tests and would then decide on the appropriate measure to treat a non-stationary time-series.\n",
    "\n",
    "It is also important to note that after any step taken to achieve stationarity (e.g. detrending or differencing) it is necessary to re-run the ADF test to ensure that the method worked. This concept explains the necessity of a while loop in the following code."
   ]
  },
  {
   "cell_type": "code",
   "execution_count": 20,
   "metadata": {},
   "outputs": [],
   "source": [
    "class Stationarity(BaseEstimator, TransformerMixin):\n",
    "    \"\"\"This class is checking for stationarity using the augmented dickey fuller test.\"\"\"\n",
    "\n",
    "    def __init__(self, SIGNIFICANCE_LEVEL):\n",
    "        self.SIGNIFICANCE_LEVEL = SIGNIFICANCE_LEVEL\n",
    "\n",
    "    def check_stationarity(self, series):\n",
    "        \"\"\"This method conducts two stationary tests, namely the ADF and KPSS test\"\"\"\n",
    "        no_nan_series = series.dropna()\n",
    "        adf_stationary = adfuller(x=no_nan_series, regression=\"c\", autolag=\"AIC\")[1] < self.SIGNIFICANCE_LEVEL\n",
    "        return adf_stationary\n",
    "\n",
    "    def adjust_series(self, series, adf_stationary):\n",
    "        \"\"\"This method takes care of any adjustments needed to be done for the different cases of nonstationarity\"\"\"\n",
    "        series.dropna(inplace=True)\n",
    "        series = series.diff()\n",
    "        adf_stationary = self.check_stationarity(series=series)\n",
    "        return series, adf_stationary\n",
    "\n",
    "    def fit(self, X=None, y=None):\n",
    "        return self\n",
    "\n",
    "    def transform(self, X):\n",
    "        \"\"\"This method takes all columns which are not time dependent and loops over them to check for stationarity.\n",
    "        This can only be done if there is a minimum amount of observations which has to be calculated before.\"\"\"\n",
    "\n",
    "        try:\n",
    "            non_time_columns = [x for x in X.columns if not x.startswith(\"month_\") and \"weekofyear\" not in x]\n",
    "            for col in non_time_columns:\n",
    "                series = X.loc[:, col].copy()\n",
    "                adf_stationary = self.check_stationarity(series)\n",
    "                while not adf_stationary:\n",
    "                    series, adf_stationary = self.adjust_series(series=series, adf_stationary=adf_stationary)\n",
    "                    X.loc[:, col] = series.copy()\n",
    "        except ValueError:\n",
    "            pass\n",
    "        return X"
   ]
  },
  {
   "cell_type": "markdown",
   "metadata": {},
   "source": [
    "## Transformer\n",
    "\n",
    "The next concept is a standard step within every machine-learning project, namely scaling the features. The benefits of this step are multi-fold. One example why scaling is necessary is when considering that our imputation method works with euclidean distances between observations. Having differently scaled features would then lead to the largest features dominate the search for the closest neighboring observation. [2]\n",
    "\n",
    "When scaling the features, there two popular method to do so, namely **normalization** and **standardization**. Whereas the former scales everything between 0 and 1, the latter approach basically calculates z-scores out of all observations. Even though there are some stackoverflow discussion on when to use what, from own experience both scaling methods tend to have very similar effects. For this project we will go with normalization.\n",
    "\n",
    "It is important to note that we have to fit the normalization method first on the trainings data and apply only afterwards on the test data in order to avoid data leakage. Furthermore it is important to note that the output of the scaling is a numpy array. Hence, in order to still keep the data in a dataframe format, we will have to save the column names in beforehand and re-create a dataframe after the transforming."
   ]
  },
  {
   "cell_type": "code",
   "execution_count": 21,
   "metadata": {},
   "outputs": [],
   "source": [
    "class Transformer(BaseEstimator, TransformerMixin):\n",
    "    \"\"\"This class is MinMax scaling all variables using trainings data and applying that on the test data.\"\"\"\n",
    "\n",
    "    def __init__(self):\n",
    "        pass\n",
    "\n",
    "    def fit(self, X, y=None):\n",
    "        self.columns = X.columns\n",
    "        scaler = MinMaxScaler()\n",
    "        self.fitted_scaler = scaler.fit(X)\n",
    "        return self\n",
    "\n",
    "    def transform(self, X):\n",
    "        scaled_X_array = self.fitted_scaler.transform(X)\n",
    "        scaled_X_df = pd.DataFrame(data=scaled_X_array, columns=self.columns)\n",
    "        return scaled_X_df\n"
   ]
  },
  {
   "cell_type": "markdown",
   "metadata": {},
   "source": [
    "## Imputer\n",
    "\n",
    "The pipeline step is a rather important one. Namely the imputation of missing observation. One very neat way to solve the problem is the K nearest neighbor imputation algorithm from scikit-learn, called **KNNImputer**. It is no coincidence that we are using an imputation method from scikit-learn, as they have the benefit of having a build-in fit and transform statement, which makes them perfect candidates for pipeline applications.\n",
    "\n",
    "The workings of KNNImputation are given its name obviously very close to the clustering algorithm KMeans. Herein we look for an observation which has a missing features what the closest K neighbors are, based on the euclidean distance of the other non-missing features. Afterwards we take the average value of all K nearest neighbors of the feature that is missing for our initial observation.\n",
    "\n",
    "Like KMeans the question of which number of neighbors is the most appropriate, remains a hyper-parameter to tune. Unlike KMeans we do not have something like the silhouette-score in order find the appropriate number, but we would have to compare the predictive power of models which were imputed with a range of different number of neighbors. Given the amount of other hyper-parameter to tune for (e.g. hyper-parameter of the prediction models), and the fact that we do not face a significant amount of missing values within this data challenge, we decide to pick the fixed value of ten neighbors.\n",
    "\n",
    "As for scaling, we have to be cautious to apply the KNNImputation first on the trainings data and apply afterwards on the test. Additionally we have to make sure that the outputted numpy array is brought back into a dataframe format, in order to not lose the column name information."
   ]
  },
  {
   "cell_type": "code",
   "execution_count": 22,
   "metadata": {},
   "outputs": [],
   "source": [
    "class Imputer(BaseEstimator, TransformerMixin):\n",
    "    \"\"\"This class is using a KNN imputation method. In this simpler version we are choosing\n",
    "    a fixed number of neighbors\"\"\"\n",
    "\n",
    "    def __init__(self, n_neighbors):\n",
    "        self.n_neighbors = n_neighbors\n",
    "\n",
    "    def fit(self, X, y=None):\n",
    "        self.columns = X.columns\n",
    "        impute = KNNImputer(n_neighbors=self.n_neighbors)\n",
    "        self.fitted_imputer = impute.fit(X)\n",
    "        return self\n",
    "\n",
    "    def transform(self, X):\n",
    "        imputed_X_array = self.fitted_imputer.transform(X)\n",
    "        imputed_X_df = pd.DataFrame(data=imputed_X_array, columns=self.columns)\n",
    "        return imputed_X_df"
   ]
  },
  {
   "cell_type": "markdown",
   "metadata": {},
   "source": [
    "## Feature Creation\n",
    "\n",
    "After the data is prepared, scaled and imputed, it is now time to come to one of the most important steps within each data science challenge, namely the feature engineering step. This step is normally conducted through a mixture of creativity, common knowledge and most importantly industry expertise.\n",
    "\n",
    "Our challenge deals with predicting the number of dengue fever cases. This disease is known to be transmitted by mosquitoes. That explains why all feature have something to do with the weather conditions in San Juan and Iquitos. The question that should be answered within the feature engineering step is therefore: What features are important to explain the size of the mosquitoes population at a given date?\n",
    "\n",
    "### Lagged Terms\n",
    "\n",
    "Using lagged values within time-series problems is oftentimes the way to go. In our challenge using lagged values as features is a bit problematic, given that we are dealing with long-term forecasts. The problem with longer term forecasts becomes clear when thinking about how one would use lagged values if one has to predict not only t+1 but also t+2. The feature t-1 would not exist for the prediction of t+2, since t+1 lies in the future. Therefore one has two options. One is to use the predicted values for t+1 as if it realized, a quite dangerous path to go. Alternatively, one only uses lags starting from t-2 onwards.  Given these problems we are only allowing lagged values not for the target variable, but for the features.\n",
    "\n",
    "It is important to note that a lag of N steps will result in us having to drop N observations. Dropping these observations can be regarded as the cost of lagging. Given that we are dealing with weekly data we will allow for a four week lag, hence a month. The value of four was chosen by trading off the benefit of having more features against the cost of having to drop more observations.\n",
    "\n",
    "Of course, it does not make much sense to lag time-variables like for example a dummy variable which indicates whether the observation lies within the month of January. A lagged version of January represents nothing other than December, a dummy variable which is already present within our feature set. Therefore we exclude all time variables from the creation of lagged variables.\n",
    "\n",
    "### Lagged variables and the train-test-split\n",
    "\n",
    "The general gist of how to create a lagged variable is quickly understood. One takes the column one would like to lag, and shifts it one cell down (assuming the we have an ascending sorted date). That would then result into a nan value in the first cell of that column. In a non-pipeline environment the creation of a nan value is not too tragic, as we would simply drop the first row from the feature set as well as from the target. Though, when facing a pipeline environment things get considerably more complicated.\n",
    "\n",
    "To understand why that is a problem one has to understand that it is not possible to drop rows from the feature set when working within a pipeline. Dropping rows from the features data would require to also drop rows from the target variable. Exactly that step is not possible though. Scikit-Learn does not allow to temper with the target variable after placing it into the pipeline.\n",
    "\n",
    "Therefore, we have to find a way of how we deal with the missing rows within the train and test set. When it comes to the test set, it is possible to mitigate the creation of nan-values when creating lagged features by appending the last n-values of the trainings set to the test set. This step requires us to save the last n rows from the training data within the fit method and in the transform statement append those rows to the test data. In order to do that we also have to check within the transform statement whether we are dealing with the training or the test data. \n",
    "\n",
    "The creation of nan-values within the trainings data on the other hand can not be solved by appending prior data. Here the only solution is to backfill the last n-rows. Given that this is highly undesirable given that backfilling is a horrible imputation method, we are inclined to not allow too many lagged values.\n",
    "\n",
    "### Interaction Effects\n",
    "\n",
    "Additionally to the lagged terms we created interaction effects. Interaction effects describe the product of cross-multiplying all available variables. The creation of these features can help to hint potential importance of cross-effects of features. For example if the variable precipitation is only of importance in the month of September, then neither feature standing alone would be able to clearly communicate that importance to the prediction model. In this case we would need the interaction effect of the two features. In order to not create too many features we only create the interaction effects for non-lagged features.\n",
    "\n",
    "It is important to note that the **PolynomialFeatures** class from scikit allows us to specify whether we would like to include an intercept through their input *include_bias=*. Given that we are later on using among others a LinearRegression, we disallow the creation of an intercept at this point, given that the model would automatically create one."
   ]
  },
  {
   "cell_type": "code",
   "execution_count": 23,
   "metadata": {},
   "outputs": [],
   "source": [
    "class FeatureCreation(BaseEstimator, TransformerMixin):\n",
    "    \"\"\"Here we create lagged versions of the variables, polynomials and sums.\"\"\"\n",
    "\n",
    "    def __init__(self, degree, max_lag, lagged_features=True, polynomial_features=True):\n",
    "        self.degree = degree\n",
    "        self.max_lag = max_lag\n",
    "        self.lagged_features = lagged_features\n",
    "        self.polynomial_features = polynomial_features\n",
    "\n",
    "    def fit(self, X, y=None):\n",
    "        # Saving the last n rows of training in order to append those for the test data\n",
    "        self.last_train_rows = X.tail(self.max_lag)\n",
    "        self.train_last_date = X.index[-1]\n",
    "        return self\n",
    "\n",
    "    def transform(self, X):\n",
    "\n",
    "        # Appending last training rows to test data\n",
    "        if X.index[0] > self.train_last_date:\n",
    "            X.append(self.last_train_rows)\n",
    "\n",
    "        non_time_columns = [x for x in X.columns if not x.startswith(\"month_\") and \"weekofyear\" not in x]\n",
    "        X_wo_dummy = X.loc[:, non_time_columns]\n",
    "\n",
    "        # Lagged terms\n",
    "        if self.lagged_features:\n",
    "            lagged_data = pd.concat([X_wo_dummy.shift(i) for i in range(1, self.max_lag + 1)], axis=1)\n",
    "            lagged_columns = [f\"{column}_lag{i}\" for i in range(1, self.max_lag + 1) for column in non_time_columns]\n",
    "            lagged_data.columns = lagged_columns\n",
    "            X = pd.concat([X, lagged_data], axis=1)\n",
    "\n",
    "        # Interaction terms\n",
    "        if self.polynomial_features:\n",
    "            poly_data = X.loc[:, non_time_columns].copy()\n",
    "            poly = PolynomialFeatures(degree=self.degree, include_bias=False, interaction_only=False)\n",
    "            poly_data_array = poly.fit_transform(poly_data)\n",
    "            poly_feature_names = poly.get_feature_names(non_time_columns)\n",
    "            poly_data_df = pd.DataFrame(data=poly_data_array, columns=poly_feature_names)\n",
    "            poly_wo_initial_features = poly_data_df.loc[:, [x for x in poly_feature_names if x not in non_time_columns]]\n",
    "            X = pd.concat([X, poly_wo_initial_features], axis=1)\n",
    "\n",
    "        X.fillna(method=\"bfill\", inplace=True)\n",
    "        return X\n"
   ]
  },
  {
   "cell_type": "markdown",
   "metadata": {},
   "source": [
    "## Feature Selection\n",
    "\n",
    "After creating an abundance of features within the prior step, it is now time to trim down to only include the relevant features within the model in order to avoid overfitting. This is where feature selection mechanisms come in. There are many potential algorithms for feature selection out there and instead of going with one of the more ordinary ones, we try out a selection method we recently stumbled over in a paper, called *\"Combining Multiple Feature-Ranking Techniques and Clustering of Variables for Feature Selection\"*. [3] The beauty of this feature selection method is twofold. For once is combines multiple feature selection techniques and therefore does not overly rely on any of them. Secondly, it tests through a clustering algorithm whether the chosen feature are significantly distinct from one another, in order to avoid having multiple features which explain the same thing.\n",
    "\n",
    "### Importance-ranking\n",
    "\n",
    "The working of the technique is quite simple and even though the paper only outlines the workings for a classification problem, we discuss how it can be easily adapted to a regression problem.\n",
    "\n",
    "The approach starts by ranking all features by their relative importance at explaining the target variable, using different algorithms. In a classification problem we would measure *importance* by...\n",
    "\n",
    "- absolute coefficient size of a Logistic Regression\n",
    "- absolute weight of a Support Vector Machine Classifier with a linear kernel\n",
    "- feature importance of a RandomForest Classifier\n",
    "\n",
    "The benefit of using three multiple feature ranking techniques compared to using only one is that the aforementioned methods rely on slightly disjoint assumptions and therefore diversify the risk of wrong decision-making about the selection procedure. The Logistic Regression for example assumes a linear relationship between features and the target, whereas the Random Forest considers variables which may statistically interact in their effect on the target variable. Further, even though there may be some overlap between the assumption of the SVM and the Logistic Regression, as they both assume linearity, the resulting importance shows no similarity [3].\n",
    "\n",
    "### Redundant features\n",
    "\n",
    "The result of the prior step are three dataframes, all of which containing all our features ranked by their respective measure of importance. The next step within this methodology is to take care of redundant features. If for example we have two feature which are highly correlated with one another (also known as high multicollinearity) then it would be hurtful to include both of them in the model, as the prediction algorithm would have a hard time to calculate the coefficient weight of each feature as they are so much alike. This results in a relatively unstable model and hurts our prediction performance.\n",
    "\n",
    "In order to take care of redundant features we feed the features of each dataframe into an Affinity Propagation clustering algorithm. In contrast to other clustering mechanisms this algorithms does not need a pre-specified number of clusters, as this happens automatically. After the algorithm allocates all features into N clusters, we pick only the highest ranked feature from each cluster. Through that method we ensure that our resulting set of feature are significantly disjunct, but still are the most important representation for explaining the target variable.\n",
    "\n",
    "### Dropping low-ranked features\n",
    "\n",
    "Lastly we introduce a hyper-parameter to this model, which comes in right before feeding the three dataframes into the Affinity Propagation. Namely, dropping an amount of unimportant features. This is beneficial especially in cases where we have a high amount of features, as we are running the risk of starting to include distinct but unimportant features. There are multiple ways to drop low-ranked features, the method the paper suggests is to drop a range of user-defined integer values *e*. It is then suggested that the value *e* can be treated as a hyper-parameter over which we can grid-search.\n",
    "\n",
    "We therefore define a range of values for the parameter *e*, run the outlined algorithm to come up with a features list and use the same prediction model we would also use for the overall prediction. We then run a cross-validation to obtain an average prediction performance score for every value of *e*.\n",
    "\n",
    "Though, in contrast to what the paper suggest we do not use the simple average of the cross validation score to compare the best value for *e*, but rather apply an adjustment to that score in order to account for the amount of features used.\n",
    "\n",
    "### Adjusted scoring function\n",
    "\n",
    "In contrast to how the paper suggests, we do not compare the performance of the different models by the simple mean scoring function value, but by an adjusted version which penalizes for the amount of features used. The reasoning for that is similar to the reason why one would prefer adjusted $R^2$ compared to $R^2$. The number of features matter when looking at the performance. Having lots of features may help the prediction, but it could also causes an overfit. All else equals we would always rather have fewer features within our model if we can obtain the performance level.\n",
    "\n",
    "We therefore apply the same transformation to the mean scoring function as is also applied to the $R^2$ value.\n",
    "\n",
    "$$adj. mean = 1 - \\left( \\frac{(1-mean) * (nobs - 1)}{nobs-nfeatures-1} \\right)$$\n",
    "\n",
    "In the formula above the *mean* denotes the averaged scoring function from the cross-validation using a certain value of *e*. *nobs* stand for the number of observations which were used in the training. *nfeatures* describes the number of features which resulted from this procedure using *e*.\n",
    "\n",
    "### Applicability to Regression\n",
    "\n",
    "As already mentioned this feature selection technique could also be applied to a regression problem by simply replacing the initial algorithm which determine the importance of each feature. In order to stay as close to the original paper as possible we suggest the following changes:\n",
    "\n",
    "- Logistic Regression --> Linear Regression\n",
    "- Support Vector Machine Classifier --> Support Vector Machine Regressor\n",
    "- Random Forest Classifier --> Random Forest Regressor\n",
    "\n",
    "Furthermore, whenever we use apply the algorithm for regression problems we change the scoring function to use R2. This is done to ensure that the scoring function produces a value which is between 0 and 1."
   ]
  },
  {
   "cell_type": "code",
   "execution_count": 24,
   "metadata": {},
   "outputs": [],
   "source": [
    "class FeatureSelection(BaseEstimator, TransformerMixin):\n",
    "    \"\"\"Using three selection mechanisms for regression or classification to figure out how important which\n",
    "    features is\"\"\"\n",
    "\n",
    "    def __init__(self, e_list, scoring, clf, estimator=None):\n",
    "        self.e_list = e_list\n",
    "        self.scoring = scoring\n",
    "        self.clf = clf\n",
    "        self.estimator = estimator\n",
    "\n",
    "    def _importance_df_creator(self, importances):\n",
    "        \"\"\"This method takes the importances of each method and ranks them by their importance\"\"\"\n",
    "        importances_df = pd.DataFrame({\"feature_names\": self.X_columns, \"importances\": importances})\n",
    "        importances_df.loc[:, \"rank\"] = importances_df.loc[:, \"importances\"].rank(method=\"dense\", ascending=False)\n",
    "        importances_df.sort_values(by=\"rank\", inplace=True)\n",
    "        return importances_df\n",
    "\n",
    "    def _svm_feature_selection(self, model, X, y):\n",
    "        model.fit(X, y)\n",
    "        svm_coef = abs(model.coef_[0])\n",
    "        importances_df = self._importance_df_creator(svm_coef)\n",
    "        importances_df.name = \"SupportVectorMachine\"\n",
    "        return importances_df\n",
    "\n",
    "    def _linear_feature_selection(self, model, X, y):\n",
    "        model.fit(X, y)\n",
    "        lgr_coef = abs(model.coef_[0])\n",
    "        importances_df = self._importance_df_creator(lgr_coef)\n",
    "        importances_df.name = \"LinearModel\"\n",
    "        return importances_df\n",
    "\n",
    "    def _rfr_feature_selection(self, model, X, y):\n",
    "        model.fit(X, y)\n",
    "        rfr_fi = model.feature_importances_\n",
    "        importances_df = self._importance_df_creator(rfr_fi)\n",
    "        importances_df.name = \"RandomForest\"\n",
    "        return importances_df\n",
    "\n",
    "    def _clustering_features(self, *df_columns, X):\n",
    "        \"\"\"This method takes the subset of features and uses an Affinity Propagation to assign each feature to a\n",
    "        cluster. In the end only the highest ranked feature of each cluster is considered and extracted.\"\"\"\n",
    "        relevant_feature_list = []\n",
    "        cluster_algo = AffinityPropagation(random_state=42, max_iter=2_500)\n",
    "        for df in df_columns:\n",
    "            subset_df = df.iloc[:self.n_keep, :].copy()\n",
    "            chosen_features = subset_df.loc[:, \"feature_names\"].tolist()\n",
    "            subset_feature_data = X.loc[:, chosen_features]\n",
    "            feature_cluster = cluster_algo.fit_predict(subset_feature_data.T)\n",
    "            subset_df.loc[:, \"cluster\"] = feature_cluster\n",
    "\n",
    "            for cluster in set(feature_cluster):\n",
    "                cluster_df = subset_df.query(\"cluster==@cluster\")\n",
    "                lowest_rank = cluster_df.loc[:, \"rank\"].min()\n",
    "                relevant_features = cluster_df.query(\"rank==@lowest_rank\").loc[:, \"feature_names\"].tolist()\n",
    "                relevant_feature_list.extend(relevant_features)\n",
    "        no_duplicates_relevant_features_list = list(set(relevant_feature_list))\n",
    "        return no_duplicates_relevant_features_list\n",
    "\n",
    "    def _adjusted_score(self, cv_scores, nfeatures, nobs):\n",
    "        \"\"\"This function adjusts the resulting cv scores by adjusting it by the number of\n",
    "        observations and features used\"\"\"\n",
    "        scores = np.mean(cv_scores)\n",
    "        adj_score = 1 - ((1-scores) * (nobs-1) / (nobs-nfeatures-1))\n",
    "        return adj_score\n",
    "\n",
    "    def _choose_best_features(self, X, y, e_list):\n",
    "        \"\"\"This method initiates the calculation of the importances by each feature. Afterwards we are looping over\n",
    "        how many features are dropped and calculate the performance of the prediction model. This is done by using the\n",
    "        same estimator the final model is using as well.\"\"\"\n",
    "        cv = 5\n",
    "        nobs = len(X)\n",
    "        list_scoring_results, list_selected_features = [], []\n",
    "\n",
    "        if self.clf:\n",
    "            svm_model = svm.SVC(kernel=\"linear\", random_state=42)\n",
    "            linear_model = LogisticRegression(max_iter=5_000, random_state=42)\n",
    "            rfr_model = RandomForestClassifier(random_state=42)\n",
    "        else:\n",
    "            svm_model = svm.SVR(kernel=\"linear\")\n",
    "            linear_model = LinearRegression()\n",
    "            rfr_model = RandomForestRegressor(random_state=42)\n",
    "            self.scoring = \"r2\"\n",
    "\n",
    "        svm_columns_df = self._svm_feature_selection(svm_model, X, y)\n",
    "        lgr_columns_df = self._linear_feature_selection(linear_model, X, y)\n",
    "        rfr_columns_df = self._rfr_feature_selection(rfr_model, X, y)\n",
    "\n",
    "        for e in e_list:\n",
    "            self.n_keep = int(len(self.X_columns) * e)\n",
    "            selected_features = self._clustering_features(svm_columns_df, lgr_columns_df, rfr_columns_df, X=X)\n",
    "\n",
    "            list_selected_features.append(selected_features)\n",
    "            subset_X = X.loc[:, selected_features]\n",
    "            cv_scores = cross_val_score(self.estimator, subset_X, y, cv=cv, scoring=self.scoring)\n",
    "\n",
    "            nfeatures = len(subset_X.columns)\n",
    "            adj_score = self._adjusted_score(cv_scores, nfeatures, nobs)\n",
    "            list_scoring_results.append(adj_score)\n",
    "\n",
    "        highest_adj_score_position = np.argmax(list_scoring_results)\n",
    "        best_features = list_selected_features[highest_adj_score_position]\n",
    "        return best_features\n",
    "\n",
    "    def fit(self, X, y=None):\n",
    "        self.X_columns = X.columns\n",
    "        self.best_features = self._choose_best_features(X, y, self.e_list)\n",
    "        return self\n",
    "\n",
    "    def transform(self, X):\n",
    "        subset_X = X.loc[:, self.best_features]\n",
    "        return subset_X\n"
   ]
  },
  {
   "cell_type": "markdown",
   "metadata": {},
   "source": [
    "## SMOTE\n",
    "\n",
    "The first step within our prediction methodology is to classify all observations into either *outliers* or *non-outliers*. By definition of what we define what *outliers* are, the resulting dataset will be strongly imbalanced, having the majority of our observation in the *non-outliers* category.\n",
    "\n",
    "Imbalanced data makes it very difficult for any classification model to learn and understand what constitutes the minority class, as it only sees so few examples. There are multiple workarounds to this problem. The most popular methods are:\n",
    "\n",
    "1. Undersample the majority class\n",
    "2. Oversample the minority class\n",
    "3. Changing the classification threshold away from 0.5 (only possible for probabilistic model)\n",
    "\n",
    "When it comes to undersampling and oversampling, it is important to note that there are multiple ways to do that. When oversampling for example, one could simply copy paste the existing values. Alternatively, one could create  synthetic observations.\n",
    "\n",
    "Synthetic minority oversampling describes a technique in which new observations of the minority classes are created by finding observations which are \"like\" the existing ones, but are not completely identical. One of the most popular methods is called SMOTE, which stands for *Synthetic Minority Oversampling Technique*.\n",
    "\n",
    "The exact workings and visualization of how SMOTE works will be outlined in a separate post, but the basic idea is quickly understood: One imagines that we only have two features and we plot all observations on a scatter plot, having each feature on one axes. The next step is then to draw connecting lines between every observation. \n",
    "The newly created values would then be found on these connection lines. This strategy is only one of many potential ways of how to use the SMOTE oversampling technique.\n",
    "\n",
    "One quite important parameter within all oversample techniques is called the *sampling_strategy*. This parameter describes how big the minority class should grow in compared to the majority class. If we for example have a minority class which represents 10% of the amount of the majority class and we specify a sampling_strategy of 0.5, then we would create 40 percentage points more of the minority class.\n",
    "\n",
    "In the original paper of SMOTE it is suggested that a combination of oversampling of the minority class and undersampling the majority class leads to favorable results. For now we only grid-search over a sampling strategy of 0.5 and 1.\n",
    "\n",
    "Even though the oversampling class SMOTE is not compatible with the scikit-learn version of pipelines, the guys from **imblearn** came up with a pipeline class which is identical to scikit's version in all regards, but can handle the SMOTE class."
   ]
  },
  {
   "cell_type": "code",
   "execution_count": 25,
   "metadata": {},
   "outputs": [],
   "source": [
    "from imblearn.over_sampling import SMOTE\n",
    "from imblearn.pipeline import make_pipeline"
   ]
  },
  {
   "cell_type": "markdown",
   "metadata": {},
   "source": [
    "## ModelSwitcher\n",
    "\n",
    "After all feature engineering, we would now like to find out which prediction model is working the best with our data. When using pipelines, we likely stumble over the problem that we have to specify which model to use when writing down the initial pipeline. This is of course unfortunate, because we would like to try out many different models and pick the best performing one afterwards.\n",
    "\n",
    "The solution to that problem is to write a custom function which takes an estimator as the input and then to use a gridsearch function and specify the models we would like to try-out as hyper-parameters. The following small snippet of code allows us to do exactly that. It is important to specify that the default estimator is set to \"None\" since otherwise we would have to initialize the pipeline with a model right away.\n",
    "\n",
    "Furthermore, it is important that we call the second method in contrast to all prior steps \"predict\" instead of \"transform\" since at this point of the pipline we are actually interested to get predictions and not further wrangle the data. Therefore, we also specified the \"RegressorMixin\" at the very top of the class in order to equip our class with all the necessary parts of a prediction class."
   ]
  },
  {
   "cell_type": "code",
   "execution_count": 26,
   "metadata": {},
   "outputs": [],
   "source": [
    "class ModelSwitcher(BaseEstimator, RegressorMixin):\n",
    "    \"\"\"This class allows to use any kind of sklearn prediction model and simply insert the models we would like\n",
    "    to try out as a hpyer-parameter.\"\"\"\n",
    "    def __init__(self, estimator=None):\n",
    "        self.estimator = estimator\n",
    "\n",
    "    def fit(self, X, y):\n",
    "        self.estimator.fit(X, y)\n",
    "\n",
    "    def predict(self, X, y=None):\n",
    "        pred = self.estimator.predict(X)\n",
    "        return pred\n"
   ]
  },
  {
   "cell_type": "markdown",
   "metadata": {},
   "source": [
    "# Working example\n",
    "\n",
    "In order to give a better idea how the pipeline works, we are showing a small demonstration of how that pipeline would look like in action. Therefore, we start by importing the data and turn the problem into a classification problem by defining all observations above the 90th percentile as an *outlier* and the remaining observations as *non-outliers*.\n",
    "\n",
    "In order to visualize how that would look like, we show in the following the time-series of San Juan in which the *outlier* cases are painted red and the *non-outlier* cases are painted blue. The graph on the right also nicely visualizes the imbalance of the two classes."
   ]
  },
  {
   "cell_type": "markdown",
   "metadata": {},
   "source": [
    "### Getting example data"
   ]
  },
  {
   "cell_type": "code",
   "execution_count": 27,
   "metadata": {},
   "outputs": [
    {
     "data": {
      "text/plain": [
       "<AxesSubplot:>"
      ]
     },
     "execution_count": 27,
     "metadata": {},
     "output_type": "execute_result"
    },
    {
     "data": {
      "image/png": "[encoded data removed]",
      "text/plain": [
       "<Figure size 1440x720 with 2 Axes>"
      ]
     },
     "metadata": {
      "needs_background": "light"
     },
     "output_type": "display_data"
    }
   ],
   "source": [
    "import matplotlib.pyplot as plt\n",
    "from src._functions import city_query, find_top_n_obs\n",
    "import src._config\n",
    "\n",
    "city = \"sj\"\n",
    "threshold = 90\n",
    "\n",
    "X_train, X_test, y_train = city_query(city)\n",
    "binary_target = find_top_n_obs(target=y_train, threshold=threshold, city=city)\n",
    "\n",
    "fig, axs = plt.subplots(figsize=(20, 10), ncols=2)\n",
    "y_train[binary_target].plot(ax=axs[0], linestyle=\"None\", marker=\"o\", color=\"red\")\n",
    "y_train[~binary_target].plot(ax=axs[0], linestyle=\"None\", marker=\"o\", color=\"blue\")\n",
    "binary_target.value_counts().plot.bar(ax=axs[1])"
   ]
  },
  {
   "cell_type": "markdown",
   "metadata": {},
   "source": [
    "Before defining and arranging all pipeline steps we have to define all options which are used within the pipeline itself. We also state all the prediction models and potential hyper-parameters for those models. Note that this is done by stating the name of the pipeline step in lowercase and after two underscores we define which option of that class is parameterized. If for instance we would like to grid-search the sampling strategy of the SMOTE oversampling class, we have to wrote *smote__sampling_strategy*.\n",
    "\n",
    "Afterwards we fit the model and obtain in-sample predictions for the entire dataset. Furthermore, we print the best estimator in order to see which hyper-parameters were performing the best."
   ]
  },
  {
   "cell_type": "code",
   "execution_count": 28,
   "metadata": {},
   "outputs": [
    {
     "name": "stdout",
     "output_type": "stream",
     "text": [
      "Pipeline(steps=[('encoding', Encoding()),\n",
      "                ('columncorrection', ColumnCorrection()),\n",
      "                ('stationarity', Stationarity(SIGNIFICANCE_LEVEL=0.05)),\n",
      "                ('transformer', Transformer()),\n",
      "                ('imputer', Imputer(n_neighbors=10)),\n",
      "                ('featurecreation', FeatureCreation(degree=2, max_lag=4)),\n",
      "                ('featureselection',\n",
      "                 FeatureSelection(clf=True, e_list=[0.01, 0.05, 0.1, 0.25, 0.5],\n",
      "                                  estimator=LogisticRegression(random_state=42),\n",
      "                                  scoring='precision')),\n",
      "                ('smote', SMOTE(random_state=42, sampling_strategy=1)),\n",
      "                ('modelswitcher',\n",
      "                 ModelSwitcher(estimator=LogisticRegression(random_state=42)))])\n"
     ]
    }
   ],
   "source": [
    "from sklearn.model_selection import GridSearchCV\n",
    "\n",
    "cv = 3\n",
    "N_NEIGHBOURS = 10\n",
    "DEGREE = 2\n",
    "MAX_LAG = 4\n",
    "SIGNIFICANCE_LEVEL = 5 / 100\n",
    "RS = 42\n",
    "e_list = [0.01, 0.05, 0.1, 0.25, 0.5]\n",
    "clf_scoring = \"precision\"\n",
    "smote_minimum_sampling_strategy = 1 - (threshold / 100)\n",
    "\n",
    "pipeline = make_pipeline(\n",
    "    Encoding(),\n",
    "    ColumnCorrection(),\n",
    "    Stationarity(SIGNIFICANCE_LEVEL=SIGNIFICANCE_LEVEL),\n",
    "    Transformer(),\n",
    "    Imputer(n_neighbors=N_NEIGHBOURS),\n",
    "    FeatureCreation(degree=DEGREE, max_lag=MAX_LAG),\n",
    "    FeatureSelection(e_list=e_list, scoring=clf_scoring, clf=True),\n",
    "    SMOTE(random_state=RS),\n",
    "    ModelSwitcher()\n",
    ")\n",
    "\n",
    "clf_parameters = [\n",
    "\n",
    "    {\"modelswitcher__estimator\": [LogisticRegression(random_state=RS)],\n",
    "     \"featureselection__estimator\": [LogisticRegression(random_state=RS)],\n",
    "     \"smote__sampling_strategy\": [smote_minimum_sampling_strategy, 0.5, 1]},\n",
    "]\n",
    "\n",
    "clf_gscv = GridSearchCV(estimator=pipeline, param_grid=clf_parameters, scoring=clf_scoring, cv=cv)\n",
    "clf_gscv.fit(X_train, binary_target)\n",
    "y_pred = clf_gscv.best_estimator_.predict(X_train)\n",
    "print(clf_gscv.best_estimator_)"
   ]
  },
  {
   "cell_type": "markdown",
   "metadata": {},
   "source": [
    "Since our example deals with a classification task, we follow up and show the resulting confusion matrix when using that estimator. The graph below shows that the classifier has a lot of trouble with False Positives. That means that the classifier predicts significantly more observations as *outliers*, even though they are not. In order to counter that tendency we already specified \"precision\" as our performance metric."
   ]
  },
  {
   "cell_type": "code",
   "execution_count": 29,
   "metadata": {},
   "outputs": [
    {
     "data": {
      "text/plain": [
       "Text(0.5, 60.0, 'Predicted Values')"
      ]
     },
     "execution_count": 29,
     "metadata": {},
     "output_type": "execute_result"
    },
    {
     "data": {
      "image/png": "[encoded data removed]",
      "text/plain": [
       "<Figure size 720x720 with 2 Axes>"
      ]
     },
     "metadata": {
      "needs_background": "light"
     },
     "output_type": "display_data"
    }
   ],
   "source": [
    "from sklearn.metrics import confusion_matrix\n",
    "import seaborn as sns\n",
    "\n",
    "confusion_matrix_array = confusion_matrix(y_true=binary_target, y_pred=y_pred)\n",
    "fig, axs = plt.subplots(figsize=(10, 10))\n",
    "sns.heatmap(data=confusion_matrix_array, annot=True, ax=axs, fmt=\"d\")\n",
    "axs.set_ylabel(\"True Values\")\n",
    "axs.set_xlabel(\"Predicted Values\")"
   ]
  },
  {
   "cell_type": "markdown",
   "metadata": {},
   "source": [
    "# Conclusion\n",
    "\n",
    "In this blogpost we took a look how our prediction method looks like under the hood. We saw how the different classes interact with each other and what the thought process was behind each step. Given that we introduced multiple sub-concepts, such as SMOTE, there will be several follow-up posts, covering the different aspects in a bit more depth.  "
   ]
  },
  {
   "cell_type": "markdown",
   "metadata": {},
   "source": [
    "## Appendix\n",
    "\n",
    "[1] Kevin Sheppard - [Financial Econometrics Notes}(https://www.kevinsheppard.com/files/teaching/mfe/notes/financial-econometrics-2020-2021.pdf)\n",
    "\n",
    "[2] https://towardsdatascience.com/what-is-feature-scaling-why-is-it-important-in-machine-learning-2854ae877048\n",
    "\n",
    "[3] ANWAR UL HAQ et al. - [Combining Multiple Feature-Ranking Techniques and Clustering of Variables for Feature Selection](https://ieeexplore.ieee.org/abstract/document/8871132) 2019"
   ]
  }
 ],
 "metadata": {
  "kernelspec": {
   "display_name": "dengai_ensemble",
   "language": "python",
   "name": "dengai_ensemble"
  },
  "language_info": {
   "codemirror_mode": {
    "name": "ipython",
    "version": 3
   },
   "file_extension": ".py",
   "mimetype": "text/x-python",
   "name": "python",
   "nbconvert_exporter": "python",
   "pygments_lexer": "ipython3",
   "version": "3.7.9"
  },
  "varInspector": {
   "cols": {
    "lenName": 16,
    "lenType": 16,
    "lenVar": 40
   },
   "kernels_config": {
    "python": {
     "delete_cmd_postfix": "",
     "delete_cmd_prefix": "del ",
     "library": "var_list.py",
     "varRefreshCmd": "print(var_dic_list())"
    },
    "r": {
     "delete_cmd_postfix": ") ",
     "delete_cmd_prefix": "rm(",
     "library": "var_list.r",
     "varRefreshCmd": "cat(var_dic_list()) "
    }
   },
   "types_to_exclude": [
    "module",
    "function",
    "builtin_function_or_method",
    "instance",
    "_Feature"
   ],
   "window_display": false
  }
 },
 "nbformat": 4,
 "nbformat_minor": 4
}
